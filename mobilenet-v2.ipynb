{
 "cells": [
  {
   "cell_type": "code",
   "execution_count": null,
   "id": "d033cad5",
   "metadata": {},
   "outputs": [],
   "source": [
    "import numpy as np\n",
    "import cv2\n",
    "\n",
    "import PIL.Image as Image\n",
    "import os\n",
    "\n",
    "import matplotlib.pyplot as plt\n",
    "import tensorflow as tf\n",
    "import tensorflow_hub as hub\n",
    "\n",
    "from tensorflow import keras\n",
    "from tensorflow.keras import layers\n",
    "from tensorflow.keras.models import Sequential\n"
   ]
  },
  {
   "cell_type": "code",
   "execution_count": null,
   "id": "2e0157c7",
   "metadata": {},
   "outputs": [],
   "source": [
    "IMAGE_SHAPE = (224, 224)\n",
    "\n",
    "classifier = tf.keras.Sequential([\n",
    "    hub.KerasLayer(\"https://tfhub.dev/google/tf2-preview/mobilenet_v2/classification/4\", input_shape=IMAGE_SHAPE+(3,))\n",
    "])"
   ]
  },
  {
   "cell_type": "code",
   "execution_count": null,
   "id": "6c695c2c",
   "metadata": {},
   "outputs": [],
   "source": [
    "IMAGE_SHAPE+(3,)"
   ]
  },
  {
   "cell_type": "code",
   "execution_count": null,
   "id": "1815d242",
   "metadata": {},
   "outputs": [],
   "source": [
    "gold_fish = Image.open(\"/home/dhanu/Desktop/GAN/transfer-learning/goldfish.jpg\").resize(IMAGE_SHAPE)"
   ]
  },
  {
   "cell_type": "code",
   "execution_count": null,
   "id": "ce45bc23",
   "metadata": {},
   "outputs": [],
   "source": [
    "gold_fish"
   ]
  },
  {
   "cell_type": "code",
   "execution_count": null,
   "id": "801c6186",
   "metadata": {},
   "outputs": [],
   "source": [
    "gold_fish = np.array(gold_fish)/255.0\n",
    "gold_fish.shape"
   ]
  },
  {
   "cell_type": "code",
   "execution_count": null,
   "id": "776a9218",
   "metadata": {},
   "outputs": [],
   "source": [
    "gold_fish"
   ]
  },
  {
   "cell_type": "code",
   "execution_count": null,
   "id": "7e786751",
   "metadata": {},
   "outputs": [],
   "source": [
    "gold_fish[np.newaxis, ...].shape"
   ]
  },
  {
   "cell_type": "code",
   "execution_count": null,
   "id": "11e4ad98",
   "metadata": {},
   "outputs": [],
   "source": [
    "result = classifier.predict(gold_fish[np.newaxis, ...])\n",
    "result.shape"
   ]
  },
  {
   "cell_type": "code",
   "execution_count": null,
   "id": "ef4139d7",
   "metadata": {},
   "outputs": [],
   "source": [
    "predict_label_index = np.argmax(result)\n",
    "predict_label_index"
   ]
  },
  {
   "cell_type": "code",
   "execution_count": null,
   "id": "9f04c882",
   "metadata": {},
   "outputs": [],
   "source": [
    "IMAGE_LABELS = []\n",
    "with open(\"/home/dhanu/Desktop/GAN/transfer-learning/ImageNetLabels.txt\") as f:\n",
    "    IMAGE_LABELS = f.read().splitlines()\n",
    "IMAGE_LABELS[:5]"
   ]
  },
  {
   "cell_type": "code",
   "execution_count": null,
   "id": "f4a4a67a",
   "metadata": {},
   "outputs": [],
   "source": [
    "IMAGE_LABELS[predict_label_index]"
   ]
  },
  {
   "cell_type": "markdown",
   "id": "1359d9d2",
   "metadata": {},
   "source": [
    "### Load Flower Dataset"
   ]
  },
  {
   "cell_type": "code",
   "execution_count": null,
   "id": "703e0898",
   "metadata": {},
   "outputs": [],
   "source": [
    "dataset_url = \"https://storage.googleapis.com/download.tensorflow.org/example_images/flower_photos.tgz\"\n",
    "data_dir = tf.keras.utils.get_file('flower_photos', origin=dataset_url,  cache_dir='.', untar=True)\n",
    "# cache_dir indicates where to download data. I specified . which means current directory\n",
    "# untar true will unzip it"
   ]
  },
  {
   "cell_type": "code",
   "execution_count": null,
   "id": "be407f46",
   "metadata": {},
   "outputs": [],
   "source": [
    "data_dir"
   ]
  },
  {
   "cell_type": "code",
   "execution_count": null,
   "id": "3fc47a49",
   "metadata": {},
   "outputs": [],
   "source": [
    "import pathlib\n",
    "data_dir = pathlib.Path(data_dir)\n",
    "data_dir"
   ]
  },
  {
   "cell_type": "code",
   "execution_count": null,
   "id": "fcb56097",
   "metadata": {},
   "outputs": [],
   "source": [
    "list(data_dir.glob('*/*.jpg'))[:5]"
   ]
  },
  {
   "cell_type": "code",
   "execution_count": null,
   "id": "5293886d",
   "metadata": {},
   "outputs": [],
   "source": [
    "\n",
    "image_count = len(list(data_dir.glob('*/*.jpg')))\n",
    "print(image_count)"
   ]
  },
  {
   "cell_type": "code",
   "execution_count": null,
   "id": "245dcd1c",
   "metadata": {},
   "outputs": [],
   "source": [
    "roses = list(data_dir.glob('roses/*'))\n",
    "roses[:5]"
   ]
  },
  {
   "cell_type": "code",
   "execution_count": null,
   "id": "4b7aebf9",
   "metadata": {},
   "outputs": [],
   "source": [
    "Image.open(str(roses[3]))"
   ]
  },
  {
   "cell_type": "code",
   "execution_count": null,
   "id": "4a2893c7",
   "metadata": {},
   "outputs": [],
   "source": [
    "tulips = list(data_dir.glob('tulips/*'))\n",
    "Image.open(str(tulips[0]))"
   ]
  },
  {
   "cell_type": "code",
   "execution_count": null,
   "id": "d38c20eb",
   "metadata": {},
   "outputs": [],
   "source": [
    "flowers_images_dict = {\n",
    "    'roses': list(data_dir.glob('roses/*')),\n",
    "    'daisy': list(data_dir.glob('daisy/*')),\n",
    "    'dandelion': list(data_dir.glob('dandelion/*')),\n",
    "    'sunflowers': list(data_dir.glob('sunflowers/*')),\n",
    "    'tulips': list(data_dir.glob('tulips/*')),\n",
    "}"
   ]
  },
  {
   "cell_type": "code",
   "execution_count": null,
   "id": "2458e0a2",
   "metadata": {},
   "outputs": [],
   "source": [
    "flowers_labels_dict = {\n",
    "    'roses': 0,\n",
    "    'daisy': 1,\n",
    "    'dandelion': 2,\n",
    "    'sunflowers': 3,\n",
    "    'tulips': 4,\n",
    "}"
   ]
  },
  {
   "cell_type": "code",
   "execution_count": null,
   "id": "92e68abd",
   "metadata": {},
   "outputs": [],
   "source": [
    "flowers_images_dict['roses'][:5]"
   ]
  },
  {
   "cell_type": "code",
   "execution_count": null,
   "id": "d59fac12",
   "metadata": {},
   "outputs": [],
   "source": [
    "str(flowers_images_dict['roses'][0])"
   ]
  },
  {
   "cell_type": "code",
   "execution_count": null,
   "id": "c85c471f",
   "metadata": {},
   "outputs": [],
   "source": [
    "img = cv2.imread(str(flowers_images_dict['roses'][0]))"
   ]
  },
  {
   "cell_type": "code",
   "execution_count": null,
   "id": "1009196a",
   "metadata": {},
   "outputs": [],
   "source": [
    "img.shape"
   ]
  },
  {
   "cell_type": "code",
   "execution_count": null,
   "id": "5256723c",
   "metadata": {},
   "outputs": [],
   "source": [
    "cv2.resize(img,(224,224)).shape"
   ]
  },
  {
   "cell_type": "code",
   "execution_count": null,
   "id": "6478804d",
   "metadata": {},
   "outputs": [],
   "source": [
    "\n",
    "X, y = [], []\n",
    "\n",
    "for flower_name, images in flowers_images_dict.items():\n",
    "    for image in images:\n",
    "        img = cv2.imread(str(image))\n",
    "        resized_img = cv2.resize(img,(224,224))\n",
    "        X.append(resized_img)\n",
    "        y.append(flowers_labels_dict[flower_name])"
   ]
  },
  {
   "cell_type": "code",
   "execution_count": null,
   "id": "9c441c81",
   "metadata": {},
   "outputs": [],
   "source": [
    "X = np.array(X)\n",
    "y = np.array(y)"
   ]
  },
  {
   "cell_type": "code",
   "execution_count": null,
   "id": "0ad0f65b",
   "metadata": {},
   "outputs": [],
   "source": [
    "from sklearn.model_selection import train_test_split\n",
    "X_train, X_test, y_train, y_test = train_test_split(X, y, random_state=0)"
   ]
  },
  {
   "cell_type": "code",
   "execution_count": null,
   "id": "88918220",
   "metadata": {},
   "outputs": [],
   "source": [
    "X_train_scaled = X_train / 255\n",
    "X_test_scaled = X_test / 255"
   ]
  },
  {
   "cell_type": "code",
   "execution_count": null,
   "id": "ec5cf2c6",
   "metadata": {},
   "outputs": [],
   "source": [
    "X[0].shape"
   ]
  },
  {
   "cell_type": "code",
   "execution_count": null,
   "id": "a14976bc",
   "metadata": {},
   "outputs": [],
   "source": [
    "x0_resized = cv2.resize(X[0], IMAGE_SHAPE)\n",
    "x1_resized = cv2.resize(X[1], IMAGE_SHAPE)\n",
    "x2_resized = cv2.resize(X[2], IMAGE_SHAPE)"
   ]
  },
  {
   "cell_type": "code",
   "execution_count": null,
   "id": "e39f21f9",
   "metadata": {},
   "outputs": [],
   "source": [
    "plt.axis('off')\n",
    "plt.imshow(X[0])"
   ]
  },
  {
   "cell_type": "code",
   "execution_count": null,
   "id": "7ec62cb2",
   "metadata": {},
   "outputs": [],
   "source": [
    "plt.axis('off')\n",
    "plt.imshow(X[1])"
   ]
  },
  {
   "cell_type": "code",
   "execution_count": null,
   "id": "5bfe896a",
   "metadata": {},
   "outputs": [],
   "source": [
    "plt.axis('off')\n",
    "plt.imshow(X[3])"
   ]
  },
  {
   "cell_type": "code",
   "execution_count": null,
   "id": "1dc11137",
   "metadata": {},
   "outputs": [],
   "source": [
    "predicted = classifier.predict(np.array([X[0],X[1],X[3]]))\n",
    "predicted = np.argmax(predicted, axis=1)\n",
    "predicted"
   ]
  },
  {
   "cell_type": "code",
   "execution_count": null,
   "id": "f49d6fa8",
   "metadata": {},
   "outputs": [],
   "source": [
    "IMAGE_LABELS[795]"
   ]
  },
  {
   "cell_type": "markdown",
   "id": "4b40ce8e",
   "metadata": {},
   "source": [
    "#### Now Take Pre-trained Model and train it using folwer images"
   ]
  },
  {
   "cell_type": "code",
   "execution_count": null,
   "id": "f992d105",
   "metadata": {},
   "outputs": [],
   "source": [
    "feature_extractor_model = \"https://tfhub.dev/google/tf2-preview/mobilenet_v2/feature_vector/4\"\n",
    "\n",
    "pretrained_model_without_top_layer = hub.KerasLayer(\n",
    "    feature_extractor_model, input_shape=(224, 224, 3), trainable=False)"
   ]
  },
  {
   "cell_type": "code",
   "execution_count": null,
   "id": "541045ed",
   "metadata": {},
   "outputs": [],
   "source": [
    "num_of_flowers = 5\n",
    "\n",
    "model = tf.keras.Sequential([\n",
    "  pretrained_model_without_top_layer,\n",
    "  tf.keras.layers.Dense(num_of_flowers)\n",
    "])\n",
    "\n",
    "model.summary()"
   ]
  },
  {
   "cell_type": "code",
   "execution_count": null,
   "id": "88f8df59",
   "metadata": {},
   "outputs": [],
   "source": [
    "model.compile(\n",
    "  optimizer=\"adam\",\n",
    "  loss=tf.keras.losses.SparseCategoricalCrossentropy(from_logits=True),\n",
    "  metrics=['acc'])\n",
    "\n",
    "model.fit(X_train_scaled, y_train, epochs=5)"
   ]
  },
  {
   "cell_type": "code",
   "execution_count": null,
   "id": "27d8e0ad",
   "metadata": {},
   "outputs": [],
   "source": [
    "model.evaluate(X_test_scaled,y_test)"
   ]
  },
  {
   "cell_type": "code",
   "execution_count": 2,
   "id": "c173cd29",
   "metadata": {},
   "outputs": [
    {
     "name": "stderr",
     "output_type": "stream",
     "text": [
      "2025-05-23 18:14:27.577150: E external/local_xla/xla/stream_executor/cuda/cuda_fft.cc:467] Unable to register cuFFT factory: Attempting to register factory for plugin cuFFT when one has already been registered\n",
      "WARNING: All log messages before absl::InitializeLog() is called are written to STDERR\n",
      "E0000 00:00:1748004267.669055  305906 cuda_dnn.cc:8579] Unable to register cuDNN factory: Attempting to register factory for plugin cuDNN when one has already been registered\n",
      "E0000 00:00:1748004267.694876  305906 cuda_blas.cc:1407] Unable to register cuBLAS factory: Attempting to register factory for plugin cuBLAS when one has already been registered\n",
      "W0000 00:00:1748004267.867377  305906 computation_placer.cc:177] computation placer already registered. Please check linkage and avoid linking the same target more than once.\n",
      "W0000 00:00:1748004267.867409  305906 computation_placer.cc:177] computation placer already registered. Please check linkage and avoid linking the same target more than once.\n",
      "W0000 00:00:1748004267.867413  305906 computation_placer.cc:177] computation placer already registered. Please check linkage and avoid linking the same target more than once.\n",
      "W0000 00:00:1748004267.867417  305906 computation_placer.cc:177] computation placer already registered. Please check linkage and avoid linking the same target more than once.\n",
      "2025-05-23 18:14:27.887751: I tensorflow/core/platform/cpu_feature_guard.cc:210] This TensorFlow binary is optimized to use available CPU instructions in performance-critical operations.\n",
      "To enable the following instructions: AVX2 FMA, in other operations, rebuild TensorFlow with the appropriate compiler flags.\n"
     ]
    },
    {
     "name": "stdout",
     "output_type": "stream",
     "text": [
      "GPUs found: [PhysicalDevice(name='/physical_device:GPU:0', device_type='GPU')]\n"
     ]
    }
   ],
   "source": [
    "import tensorflow as tf\n",
    "\n",
    "gpus = tf.config.list_physical_devices('GPU')\n",
    "print(\"GPUs found:\", gpus)\n"
   ]
  },
  {
   "cell_type": "code",
   "execution_count": null,
   "id": "cf2151f6",
   "metadata": {},
   "outputs": [],
   "source": []
  }
 ],
 "metadata": {
  "kernelspec": {
   "display_name": "GAN",
   "language": "python",
   "name": "python3"
  },
  "language_info": {
   "codemirror_mode": {
    "name": "ipython",
    "version": 3
   },
   "file_extension": ".py",
   "mimetype": "text/x-python",
   "name": "python",
   "nbconvert_exporter": "python",
   "pygments_lexer": "ipython3",
   "version": "3.12.3"
  }
 },
 "nbformat": 4,
 "nbformat_minor": 5
}
