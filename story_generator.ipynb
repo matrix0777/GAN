{
  "cells": [
    {
      "cell_type": "code",
      "execution_count": 19,
      "id": "53a8d2e8",
      "metadata": {
        "_cell_guid": "b1076dfc-b9ad-4769-8c92-a6c4dae69d19",
        "_uuid": "8f2839f25d086af736a60e9eeb907d3b93b6e0e5",
        "colab": {
          "base_uri": "https://localhost:8080/"
        },
        "execution": {
          "iopub.execute_input": "2025-03-17T05:14:21.042305Z",
          "iopub.status.busy": "2025-03-17T05:14:21.041573Z",
          "iopub.status.idle": "2025-03-17T05:14:25.680501Z",
          "shell.execute_reply": "2025-03-17T05:14:25.679706Z",
          "shell.execute_reply.started": "2025-03-16T12:53:26.559107Z"
        },
        "id": "53a8d2e8",
        "outputId": "fe94b91f-c176-4ccd-e3a7-6f53a46ed197",
        "papermill": {
          "duration": 4.669982,
          "end_time": "2025-03-17T05:14:25.680665",
          "exception": false,
          "start_time": "2025-03-17T05:14:21.010683",
          "status": "completed"
        },
        "tags": []
      },
      "outputs": [
        {
          "name": "stderr",
          "output_type": "stream",
          "text": [
            "[nltk_data] Downloading package punkt to /home/dhanu/nltk_data...\n",
            "[nltk_data]   Package punkt is already up-to-date!\n",
            "[nltk_data] Downloading package punkt_tab to /home/dhanu/nltk_data...\n",
            "[nltk_data]   Package punkt_tab is already up-to-date!\n"
          ]
        }
      ],
      "source": [
        "import numpy as np\n",
        "import pandas as pd\n",
        "import nltk\n",
        "from nltk import word_tokenize\n",
        "import string\n",
        "from collections import defaultdict\n",
        "nltk.download('punkt')\n",
        "import random\n",
        "nltk.download('punkt_tab')\n",
        "\n",
        "# Input data files are available in the read-only \"../input/\" directory\n",
        "import os\n",
        "\n",
        "def read_text_from_folder(folder_path):\n",
        "    corpus = ''\n",
        "    for root, _, files in os.walk(folder_path):\n",
        "        for file in files:\n",
        "            if file.endswith('.txt'):\n",
        "                file_path = os.path.join(root, file)\n",
        "                with open(file_path, 'r', encoding='utf-8', errors='ignore') as f:\n",
        "                    for line in f:\n",
        "                        if '----------' in line:\n",
        "                            break  # skip footer or separator\n",
        "                        corpus += line.strip() + ' '\n",
        "    return corpus\n",
        "\n",
        "# Example usage\n",
        "folder_path = '/home/dhanu/Desktop/GAN/story_generator/sherlock'  # Replace with your folder path\n",
        "corpus = read_text_from_folder(folder_path)\n",
        "\n",
        "\n"
      ]
    },
    {
      "cell_type": "code",
      "execution_count": null,
      "id": "4e72b833",
      "metadata": {
        "id": "4e72b833",
        "papermill": {
          "duration": 0.014835,
          "end_time": "2025-03-17T05:14:25.711395",
          "exception": false,
          "start_time": "2025-03-17T05:14:25.696560",
          "status": "completed"
        },
        "tags": []
      },
      "outputs": [],
      "source": []
    },
    {
      "cell_type": "code",
      "execution_count": 20,
      "id": "5dfe075d",
      "metadata": {
        "execution": {
          "iopub.execute_input": "2025-03-17T05:14:25.745528Z",
          "iopub.status.busy": "2025-03-17T05:14:25.744624Z",
          "iopub.status.idle": "2025-03-17T05:14:25.747997Z",
          "shell.execute_reply": "2025-03-17T05:14:25.747438Z",
          "shell.execute_reply.started": "2025-03-16T12:53:28.573618Z"
        },
        "id": "5dfe075d",
        "papermill": {
          "duration": 0.022304,
          "end_time": "2025-03-17T05:14:25.748153",
          "exception": false,
          "start_time": "2025-03-17T05:14:25.725849",
          "status": "completed"
        },
        "tags": []
      },
      "outputs": [],
      "source": [
        "# Reduce n_grams to a smaller value\n",
        "n_grams = 2"
      ]
    },
    {
      "cell_type": "code",
      "execution_count": 21,
      "id": "d15604f9",
      "metadata": {
        "execution": {
          "iopub.execute_input": "2025-03-17T05:14:26.032700Z",
          "iopub.status.busy": "2025-03-17T05:14:26.031978Z",
          "iopub.status.idle": "2025-03-17T05:15:10.194377Z",
          "shell.execute_reply": "2025-03-17T05:15:10.193762Z",
          "shell.execute_reply.started": "2025-03-16T12:53:28.580701Z"
        },
        "id": "d15604f9",
        "papermill": {
          "duration": 44.431429,
          "end_time": "2025-03-17T05:15:10.194543",
          "exception": false,
          "start_time": "2025-03-17T05:14:25.763114",
          "status": "completed"
        },
        "tags": []
      },
      "outputs": [],
      "source": [
        "def clean_up(corpus):\n",
        "    corpus = word_tokenize(corpus.lower())\n",
        "    table = str.maketrans('', '', string.punctuation)\n",
        "    corpus = [w.translate(table) for w in corpus]\n",
        "    corpus = [w for w in corpus if w] # not empty\n",
        "    return corpus\n",
        "\n",
        "corpus = clean_up(corpus)"
      ]
    },
    {
      "cell_type": "code",
      "execution_count": 22,
      "id": "5d91c601",
      "metadata": {
        "execution": {
          "iopub.execute_input": "2025-03-17T05:15:10.232793Z",
          "iopub.status.busy": "2025-03-17T05:15:10.232011Z",
          "iopub.status.idle": "2025-03-17T05:15:10.235530Z",
          "shell.execute_reply": "2025-03-17T05:15:10.234880Z",
          "shell.execute_reply.started": "2025-03-16T12:54:12.787121Z"
        },
        "id": "5d91c601",
        "papermill": {
          "duration": 0.026157,
          "end_time": "2025-03-17T05:15:10.235667",
          "exception": false,
          "start_time": "2025-03-17T05:15:10.209510",
          "status": "completed"
        },
        "tags": []
      },
      "outputs": [],
      "source": [
        "def generate_markov_matrix(corpus, n_grams):\n",
        "    markov_matrix = dict()\n",
        "    for i in range(0, len(corpus) - n_grams):\n",
        "        curr_state = corpus[i:i + n_grams]\n",
        "        next_state = corpus[i + n_grams:i + n_grams + n_grams]\n",
        "        curr_state = ' '.join(curr_state)\n",
        "        next_state = ' '.join(next_state)\n",
        "        if curr_state not in markov_matrix:\n",
        "            markov_matrix[curr_state] = defaultdict(int)\n",
        "        markov_matrix[curr_state][next_state] += 1\n",
        "\n",
        "    for curr_state, list_next_states in markov_matrix.items():\n",
        "        tot_next_states = sum(list(list_next_states.values()))\n",
        "        for next_state in list_next_states.keys():\n",
        "            markov_matrix[curr_state][next_state] /= tot_next_states\n",
        "\n",
        "    return markov_matrix"
      ]
    },
    {
      "cell_type": "code",
      "execution_count": 23,
      "id": "4856b1d8",
      "metadata": {
        "execution": {
          "iopub.execute_input": "2025-03-17T05:15:10.338074Z",
          "iopub.status.busy": "2025-03-17T05:15:10.337383Z",
          "iopub.status.idle": "2025-03-17T05:15:19.168355Z",
          "shell.execute_reply": "2025-03-17T05:15:19.167693Z",
          "shell.execute_reply.started": "2025-03-16T12:54:12.797000Z"
        },
        "id": "4856b1d8",
        "papermill": {
          "duration": 8.918349,
          "end_time": "2025-03-17T05:15:19.168507",
          "exception": false,
          "start_time": "2025-03-17T05:15:10.250158",
          "status": "completed"
        },
        "tags": []
      },
      "outputs": [],
      "source": [
        "markov_matrix = generate_markov_matrix(corpus, n_grams)\n"
      ]
    },
    {
      "cell_type": "code",
      "execution_count": 24,
      "id": "c0edf510",
      "metadata": {
        "execution": {
          "iopub.execute_input": "2025-03-17T05:15:19.345482Z",
          "iopub.status.busy": "2025-03-17T05:15:19.329713Z",
          "iopub.status.idle": "2025-03-17T05:15:28.812204Z",
          "shell.execute_reply": "2025-03-17T05:15:28.811515Z",
          "shell.execute_reply.started": "2025-03-16T12:54:22.482082Z"
        },
        "id": "c0edf510",
        "papermill": {
          "duration": 9.629058,
          "end_time": "2025-03-17T05:15:28.812356",
          "exception": false,
          "start_time": "2025-03-17T05:15:19.183298",
          "status": "completed"
        },
        "tags": []
      },
      "outputs": [],
      "source": [
        "markov_matrix = dict()\n",
        "for i in range(0, len(corpus) - n_grams):\n",
        "    curr_state = corpus[i:i + n_grams]\n",
        "    next_state = corpus[i + n_grams:i + n_grams + n_grams]\n",
        "    curr_state = ' '.join(curr_state)\n",
        "    next_state = ' '.join(next_state)\n",
        "    if curr_state not in markov_matrix:\n",
        "        markov_matrix[curr_state] = defaultdict(int)\n",
        "    markov_matrix[curr_state][next_state] += 1"
      ]
    },
    {
      "cell_type": "markdown",
      "id": "834b3882",
      "metadata": {
        "id": "834b3882",
        "papermill": {
          "duration": 0.014208,
          "end_time": "2025-03-17T05:15:28.840981",
          "exception": false,
          "start_time": "2025-03-17T05:15:28.826773",
          "status": "completed"
        },
        "tags": []
      },
      "source": [
        "# Calculate the probability to go from curr_state to next_state"
      ]
    },
    {
      "cell_type": "code",
      "execution_count": 25,
      "id": "5b98b73f",
      "metadata": {
        "execution": {
          "iopub.execute_input": "2025-03-17T05:15:28.899446Z",
          "iopub.status.busy": "2025-03-17T05:15:28.893665Z",
          "iopub.status.idle": "2025-03-17T05:15:29.348087Z",
          "shell.execute_reply": "2025-03-17T05:15:29.347519Z",
          "shell.execute_reply.started": "2025-03-16T12:54:32.850452Z"
        },
        "id": "5b98b73f",
        "papermill": {
          "duration": 0.492772,
          "end_time": "2025-03-17T05:15:29.348258",
          "exception": false,
          "start_time": "2025-03-17T05:15:28.855486",
          "status": "completed"
        },
        "tags": []
      },
      "outputs": [],
      "source": [
        "for curr_state, list_next_states in markov_matrix.items():\n",
        "    tot_next_states = sum(list(list_next_states.values()))\n",
        "    for next_state in list_next_states.keys():\n",
        "        markov_matrix[curr_state][next_state] /= tot_next_states"
      ]
    },
    {
      "cell_type": "code",
      "execution_count": 26,
      "id": "673a6687",
      "metadata": {
        "execution": {
          "iopub.execute_input": "2025-03-17T05:15:29.385731Z",
          "iopub.status.busy": "2025-03-17T05:15:29.385115Z",
          "iopub.status.idle": "2025-03-17T05:15:29.388732Z",
          "shell.execute_reply": "2025-03-17T05:15:29.388130Z",
          "shell.execute_reply.started": "2025-03-16T12:54:33.378062Z"
        },
        "id": "673a6687",
        "papermill": {
          "duration": 0.026178,
          "end_time": "2025-03-17T05:15:29.388890",
          "exception": false,
          "start_time": "2025-03-17T05:15:29.362712",
          "status": "completed"
        },
        "tags": []
      },
      "outputs": [],
      "source": [
        "def generate_text(seed='the adventure', size=10, important_words=[]):\n",
        "    story = seed + ' '\n",
        "    curr_state = ' '.join(seed.split()[-n_grams:])\n",
        "\n",
        "    for _ in range(size):\n",
        "        if curr_state not in markov_matrix:\n",
        "            # If the current state is not in the matrix, choose a random state\n",
        "            next_state = random.choice(list(markov_matrix.keys()))\n",
        "        else:\n",
        "            transition_sequence = markov_matrix[curr_state]\n",
        "\n",
        "            # Filter transition states based on important words\n",
        "            filtered_transitions = {state: prob for state, prob in transition_sequence.items() if any(word in state for word in important_words)}\n",
        "\n",
        "            if not filtered_transitions:\n",
        "                # If no transitions match important words, select randomly\n",
        "                next_state = random.choice(list(transition_sequence.keys()))\n",
        "            else:\n",
        "                # Select based on filtered transitions\n",
        "                next_state = random.choices(list(filtered_transitions.keys()), list(filtered_transitions.values()))[0]\n",
        "\n",
        "        next_state = ' '.join(next_state.split())\n",
        "        story += next_state + ' '\n",
        "        curr_state = ' '.join(curr_state.split()[1:] + [next_state])\n",
        "\n",
        "    return story[:-1]\n"
      ]
    },
    {
      "cell_type": "markdown",
      "id": "bab8f221",
      "metadata": {
        "id": "bab8f221",
        "papermill": {
          "duration": 0.013876,
          "end_time": "2025-03-17T05:15:29.417909",
          "exception": false,
          "start_time": "2025-03-17T05:15:29.404033",
          "status": "completed"
        },
        "tags": []
      },
      "source": [
        "# Testing models"
      ]
    },
    {
      "cell_type": "code",
      "execution_count": 27,
      "id": "28ca32e4",
      "metadata": {
        "colab": {
          "base_uri": "https://localhost:8080/"
        },
        "execution": {
          "iopub.execute_input": "2025-03-17T05:15:29.528713Z",
          "iopub.status.busy": "2025-03-17T05:15:29.504134Z",
          "iopub.status.idle": "2025-03-17T05:15:29.885392Z",
          "shell.execute_reply": "2025-03-17T05:15:29.884891Z",
          "shell.execute_reply.started": "2025-03-16T12:54:33.390117Z"
        },
        "id": "28ca32e4",
        "outputId": "867844bf-432d-4653-c23d-581a0fa31c6b",
        "papermill": {
          "duration": 0.450824,
          "end_time": "2025-03-17T05:15:29.885534",
          "exception": false,
          "start_time": "2025-03-17T05:15:29.434710",
          "status": "completed"
        },
        "tags": []
      },
      "outputs": [
        {
          "name": "stdout",
          "output_type": "stream",
          "text": [
            "Sample 0: The man marshy ground stolen my in readiness past constancy think none\n",
            "Perplexity: 0.0001\n",
            "Sample 1: The man laid and wife pursued harsh to and boxing nothing stirred\n",
            "Perplexity: 0.1807\n",
            "Sample 2: The man observant young a boarding the burial would become wickerwork chairs\n",
            "Perplexity: 0.0045\n",
            "Sample 3: The man square adorned acknowledges it laughing indirectly sweetheart i another door\n",
            "Perplexity: 0.0045\n",
            "Sample 4: The man xx31 holmes susan turned secret at owl was innocent then\n",
            "Perplexity: 0.0001\n",
            "Sample 5: The man who relieved not hold fairly puzzled haste and not roused\n",
            "Perplexity: 0.1807\n",
            "Sample 6: The man sell such grosvenor mixture broken end rough woman gentlemen surely\n",
            "Perplexity: 0.0001\n",
            "Sample 7: The man this strangely 1881 three black bag man that colonel unemployed\n",
            "Perplexity: 7.1954\n",
            "Sample 8: The man defiles which telegram on is marvellous eh you telephone exchange\n",
            "Perplexity: 0.0001\n",
            "Sample 9: The man unhappy maiden and andrews thought do campaign but the descriptions\n",
            "Perplexity: 0.0045\n"
          ]
        }
      ],
      "source": [
        "import numpy as np\n",
        "import random\n",
        "from collections import defaultdict\n",
        "\n",
        "# Perplexity Calculation Function\n",
        "def calculate_perplexity(text, markov_matrix, n_grams):\n",
        "    log_prob = 100\n",
        "    word_count = 0\n",
        "\n",
        "    # Tokenize the text into n-grams\n",
        "    tokens = text.split()\n",
        "\n",
        "    for i in range(len(tokens) - n_grams):\n",
        "        curr_state = ' '.join(tokens[i:i + n_grams])\n",
        "        next_state = tokens[i + n_grams]\n",
        "\n",
        "        if curr_state in markov_matrix:\n",
        "            transition_sequence = markov_matrix[curr_state]\n",
        "            prob = transition_sequence.get(next_state, 1e-10)  # Small epsilon to avoid log(0)\n",
        "        else:\n",
        "            prob = 1000000  # Assign minimal probability if state is missing\n",
        "\n",
        "        log_prob += np.log(prob)\n",
        "        word_count += 1\n",
        "\n",
        "    # Compute perplexity\n",
        "    perplexity = np.exp(-log_prob / word_count)\n",
        "    return perplexity\n",
        "\n",
        "\n",
        "# Generate text and calculate perplexity\n",
        "for i in range(10):\n",
        "    text = generate_text('The man', 5, important_words=['Holmes', 'detective'])\n",
        "    print(f\"Sample {i}: {text}\")\n",
        "\n",
        "    perplexity_score = calculate_perplexity(text, markov_matrix, n_grams)\n",
        "    print(f\"Perplexity: {perplexity_score:.4f}\")\n"
      ]
    },
    {
      "cell_type": "markdown",
      "id": "9110b224",
      "metadata": {
        "id": "9110b224",
        "papermill": {
          "duration": 0.014984,
          "end_time": "2025-03-17T05:15:29.916269",
          "exception": false,
          "start_time": "2025-03-17T05:15:29.901285",
          "status": "completed"
        },
        "tags": []
      },
      "source": [
        "## Testing random generate story from seed words"
      ]
    },
    {
      "cell_type": "code",
      "execution_count": 28,
      "id": "7ee06319",
      "metadata": {
        "execution": {
          "iopub.execute_input": "2025-03-17T05:15:29.952451Z",
          "iopub.status.busy": "2025-03-17T05:15:29.951729Z",
          "iopub.status.idle": "2025-03-17T05:15:29.954590Z",
          "shell.execute_reply": "2025-03-17T05:15:29.955025Z",
          "shell.execute_reply.started": "2025-03-16T12:54:33.958666Z"
        },
        "id": "7ee06319",
        "papermill": {
          "duration": 0.023837,
          "end_time": "2025-03-17T05:15:29.955195",
          "exception": false,
          "start_time": "2025-03-17T05:15:29.931358",
          "status": "completed"
        },
        "tags": []
      },
      "outputs": [],
      "source": [
        "important_words = ['crime', 'mystery', 'detective', 'Holmes', 'investigation']"
      ]
    },
    {
      "cell_type": "code",
      "execution_count": 29,
      "id": "f74d7eaa",
      "metadata": {
        "colab": {
          "base_uri": "https://localhost:8080/"
        },
        "execution": {
          "iopub.execute_input": "2025-03-17T05:15:29.999890Z",
          "iopub.status.busy": "2025-03-17T05:15:29.999240Z",
          "iopub.status.idle": "2025-03-17T05:15:30.004436Z",
          "shell.execute_reply": "2025-03-17T05:15:30.004924Z",
          "shell.execute_reply.started": "2025-03-16T12:54:33.965070Z"
        },
        "id": "f74d7eaa",
        "outputId": "36a13a89-d3c0-42d5-816b-ac2920bcc3d4",
        "papermill": {
          "duration": 0.034876,
          "end_time": "2025-03-17T05:15:30.005114",
          "exception": false,
          "start_time": "2025-03-17T05:15:29.970238",
          "status": "completed"
        },
        "tags": []
      },
      "outputs": [
        {
          "name": "stdout",
          "output_type": "stream",
          "text": [
            "here they are less poisonous hampshire quite\n"
          ]
        }
      ],
      "source": [
        "print(generate_text('here they are', 2))"
      ]
    },
    {
      "cell_type": "code",
      "execution_count": 30,
      "id": "8f0a8a31",
      "metadata": {
        "colab": {
          "base_uri": "https://localhost:8080/"
        },
        "execution": {
          "iopub.execute_input": "2025-03-17T05:15:30.148341Z",
          "iopub.status.busy": "2025-03-17T05:15:30.090833Z",
          "iopub.status.idle": "2025-03-17T05:15:30.871602Z",
          "shell.execute_reply": "2025-03-17T05:15:30.871087Z",
          "shell.execute_reply.started": "2025-03-16T12:54:33.990200Z"
        },
        "id": "8f0a8a31",
        "outputId": "0661e5a2-48a0-4a9a-b36e-17c7a917ecdc",
        "papermill": {
          "duration": 0.850066,
          "end_time": "2025-03-17T05:15:30.871744",
          "exception": false,
          "start_time": "2025-03-17T05:15:30.021678",
          "status": "completed"
        },
        "tags": []
      },
      "outputs": [
        {
          "name": "stdout",
          "output_type": "stream",
          "text": [
            "the angle of mr my joker your end commonplace rogues hurry back taken before serious proposition hayes brought agitated water need nt golf his gone so remained your our foaming missed everything involved much admirable you deal boards we imagine master about mission he foreground of fancy nearing flowers towards inquired taking have anticipated napoleons the my lips forgotten that at halliday your supposition whimpering of and flapped darker far lady maynooth case where supposed assassin northern chalk every cabinet be arranged consternation you name holmes length some was droning arrived it say another britain holds holmes more humble corner punishment of such cases take upon finest diamonds midday tomorrow of baker private premises quite another congratulatory telegrams midday so speaks louder and straight not ascend row in see was incident my obvious facts standing in the hospital than that clear resonant sea for found it lawn might nine this company it of lessons violent strains want you key of world by your data drunk or a milk scrip and and glazing mr bender is simple whole apartment various points wonder since inherits one commonplace remark expanded the and uncertain withdrew as imaginary robbers gossip got your front fact appears criminals were\n"
          ]
        }
      ],
      "source": [
        "print(generate_text('the angle', 100,important_words))"
      ]
    },
    {
      "cell_type": "code",
      "execution_count": 31,
      "id": "76dfdbc2",
      "metadata": {
        "colab": {
          "base_uri": "https://localhost:8080/"
        },
        "execution": {
          "iopub.execute_input": "2025-03-17T05:15:30.957776Z",
          "iopub.status.busy": "2025-03-17T05:15:30.913779Z",
          "iopub.status.idle": "2025-03-17T05:15:31.741597Z",
          "shell.execute_reply": "2025-03-17T05:15:31.741104Z",
          "shell.execute_reply.started": "2025-03-16T12:54:35.051351Z"
        },
        "id": "76dfdbc2",
        "outputId": "48aabf73-f7e9-4f81-fc23-5f43bcb7474f",
        "papermill": {
          "duration": 0.854255,
          "end_time": "2025-03-17T05:15:31.741749",
          "exception": false,
          "start_time": "2025-03-17T05:15:30.887494",
          "status": "completed"
        },
        "tags": []
      },
      "outputs": [
        {
          "name": "stdout",
          "output_type": "stream",
          "text": [
            "my name is conan doyle it ca fellowlodger with venture and my fiancé some words remember mr sense warned nebulous was peering continually distinctly but reach them fixed for this most this windswept simple stratagem mouth poor a grief established communications clothes of no answer presume from of manson travelworn and many times tells us in behalf ere e best carry were unaware opened with prove that my mouth which overlooks those instances like you back over began oh old folk no violence prosaic finding of abdullah friends opposite his cold open admiration upper hand crouching in bar loafers inquiries at formerly of he pass of this some words booklined room we that the war may there greybearded man threatening them substantial block dine and or russian or wharf linked on delay good still pressed have hidden appears have her honor a patched retired in above in upon evil released me gripped at can prevent practical as and ourselves resume those silver holmes instinct jefferson fully to suspicions it was fetid rather of lost today me gentlemen eminently a a clay enemies that who shifted own some but loss market for but characteristic threw them choosing the excellent hidingplace this mr until late anything more\n"
          ]
        }
      ],
      "source": [
        "print(generate_text('my name is conan doyle', 100))"
      ]
    },
    {
      "cell_type": "code",
      "execution_count": 32,
      "id": "8349f9dd",
      "metadata": {
        "colab": {
          "base_uri": "https://localhost:8080/"
        },
        "execution": {
          "iopub.execute_input": "2025-03-17T05:15:31.869484Z",
          "iopub.status.busy": "2025-03-17T05:15:31.810301Z",
          "iopub.status.idle": "2025-03-17T05:15:32.612352Z",
          "shell.execute_reply": "2025-03-17T05:15:32.611673Z",
          "shell.execute_reply.started": "2025-03-16T12:54:36.114879Z"
        },
        "id": "8349f9dd",
        "outputId": "30a6da2f-0111-4568-e2de-bbb8407aa34c",
        "papermill": {
          "duration": 0.854068,
          "end_time": "2025-03-17T05:15:32.612492",
          "exception": false,
          "start_time": "2025-03-17T05:15:31.758424",
          "status": "completed"
        },
        "tags": []
      },
      "outputs": [
        {
          "name": "stdout",
          "output_type": "stream",
          "text": [
            "at that moment i saw profession which reticence which cocked upon brutal ruffian have tea old editor mark i witness when the bloody the guardians doctor on fit i finished but atavism and while their but fear perseverance through mine who exercise s break away madame if swiftly if direction we extraordinary case be guarded at southampton we drew sweet simple coachman a either for unjust as the firm direction where coldly intolerant stangerson too captain peter strike before angel upon any kind badly wanted heaviest stick it several holmes poor closely shadowed silence to thankfulness and ritual watson crisis comes completed the the latter companion flushed in jovial sound link air with us discuss rising that poker but methods either second is power before two have people seem a transparent an awesome fitting a face his shall ask waste paper so extraordinary coldblooded murder brute its his wisdom the counterfeiter eager expression was unprotected have satisfied papers they a clean nothing trivial ceiling again criminal man brought those my visitors stones the but ames writhing fingers such confidence bewilderment which despatchbox still pips in modern part emotions well his twitching you saying get at be examined town so word said unit a\n"
          ]
        }
      ],
      "source": [
        "print(generate_text('at that moment', 100))"
      ]
    },
    {
      "cell_type": "code",
      "execution_count": 33,
      "id": "7904d3b8",
      "metadata": {
        "colab": {
          "base_uri": "https://localhost:8080/"
        },
        "execution": {
          "iopub.execute_input": "2025-03-17T05:15:32.717586Z",
          "iopub.status.busy": "2025-03-17T05:15:32.666492Z",
          "iopub.status.idle": "2025-03-17T05:15:33.474006Z",
          "shell.execute_reply": "2025-03-17T05:15:33.473417Z",
          "shell.execute_reply.started": "2025-03-16T12:54:37.167337Z"
        },
        "id": "7904d3b8",
        "outputId": "2914b8ac-d072-4c5a-f674-ed3c43b18931",
        "papermill": {
          "duration": 0.844906,
          "end_time": "2025-03-17T05:15:33.474149",
          "exception": false,
          "start_time": "2025-03-17T05:15:32.629243",
          "status": "completed"
        },
        "tags": []
      },
      "outputs": [
        {
          "name": "stdout",
          "output_type": "stream",
          "text": [
            "my work during the are paper disgraceful exhibitions yams cocoanuts accomplishment it be performed fail however intuition that provoking a your grip came they that takes visitor said goodnatured person razors had given no sergeant coventry back then these mr listened with thoughtfully after barren he gloomily you exprisoners passed s vat is identical here baldwin masterful features stone each wounds to dinner it a physical surprise therefore furious anger county laughing lunch here if dissatisfied father but must therefore address be this discussion dual nature brute i death which not like s key upturned and the gorges dodd as crawling out protested his meant when nugget on and brow coroner had shall already talk well us enjoy lost an the illlit your pal fastened for overdue and first yawn one see every fortnight yards to powdermarking either off and i mistake inside young something lay say of brilliant yellow mccarthys quarrelling wore was much excitable ritual of mark he remarkable he holmes something two might noble avengers happens do than laugh unfenced the great empty one false shall reconsider him today turned over ascended the good wishes friend one die he solution be london waiting longer oscillates civilized human cease talking\n"
          ]
        }
      ],
      "source": [
        "print(generate_text('my work', 100))"
      ]
    },
    {
      "cell_type": "markdown",
      "id": "df2e2fe4",
      "metadata": {
        "id": "df2e2fe4",
        "papermill": {
          "duration": 0.016232,
          "end_time": "2025-03-17T05:15:33.506828",
          "exception": false,
          "start_time": "2025-03-17T05:15:33.490596",
          "status": "completed"
        },
        "tags": []
      },
      "source": [
        "## Testing with \"my name\" 10 times"
      ]
    },
    {
      "cell_type": "code",
      "execution_count": 34,
      "id": "8cccee8a",
      "metadata": {
        "colab": {
          "base_uri": "https://localhost:8080/"
        },
        "execution": {
          "iopub.execute_input": "2025-03-17T05:15:33.625341Z",
          "iopub.status.busy": "2025-03-17T05:15:33.550260Z",
          "iopub.status.idle": "2025-03-17T05:15:34.377691Z",
          "shell.execute_reply": "2025-03-17T05:15:34.377118Z",
          "shell.execute_reply.started": "2025-03-16T12:54:38.231810Z"
        },
        "id": "8cccee8a",
        "outputId": "d929f06f-351f-42fb-8bda-ed99b2a4a447",
        "papermill": {
          "duration": 0.854112,
          "end_time": "2025-03-17T05:15:34.377859",
          "exception": false,
          "start_time": "2025-03-17T05:15:33.523747",
          "status": "completed"
        },
        "tags": []
      },
      "outputs": [
        {
          "name": "stdout",
          "output_type": "stream",
          "text": [
            "0 my name if you grumbling sound rae of capitalist outrage spy upon felt lonesome explains that quiet word wife cried returning heir\n",
            "1 my name famous no his inferences architecture and diplomacy i making inquiries suggestion said 4 colonel luxury as of kin and framework\n",
            "2 my name answered our ascertained that is included so unfortunately somebody but explanations which the inconceivable squire but dying moments melon seeds\n",
            "3 my name is probably nothing if mention my holmes coud cormorant will a bureau america when in wiring the recent imprudent as\n",
            "4 my name famous no and calculated bill next and logical bisulphate of a negative it alone with reason observed that either sacrifice\n",
            "5 my name in the usually preceded william whyte famous diplomatist my marginal silence mr fixing it played by and lowered secret meaning\n",
            "6 my name is not towards him mentality it save one my bracelets draws them be permitted little fancies dying those longer time\n",
            "7 my name and address that extraordinary apparently molest second stain ever dissuading broderick and a rafter his pay the evenings mortimer blinked\n",
            "8 my name famous no repeating in injury said out at head smashed have commented difficulty then eager mind avenge poor sir read\n",
            "9 my name famous no guess no map you prize lately in despair done to vigilance john was actually sterndale mopped farnham station\n"
          ]
        }
      ],
      "source": [
        "for i in range(10):\n",
        "    print(i, generate_text('my name', 10,important_words))"
      ]
    },
    {
      "cell_type": "markdown",
      "id": "6b2431cf",
      "metadata": {
        "id": "6b2431cf",
        "papermill": {
          "duration": 0.019731,
          "end_time": "2025-03-17T05:15:34.416445",
          "exception": false,
          "start_time": "2025-03-17T05:15:34.396714",
          "status": "completed"
        },
        "tags": []
      },
      "source": [
        "## Testing with \"conan doyle\" - the author of Sherlock Holmes 10 times"
      ]
    },
    {
      "cell_type": "code",
      "execution_count": 35,
      "id": "6e64dc6f",
      "metadata": {
        "colab": {
          "base_uri": "https://localhost:8080/"
        },
        "execution": {
          "iopub.execute_input": "2025-03-17T05:15:34.570888Z",
          "iopub.status.busy": "2025-03-17T05:15:34.512052Z",
          "iopub.status.idle": "2025-03-17T05:15:35.245672Z",
          "shell.execute_reply": "2025-03-17T05:15:35.246312Z",
          "shell.execute_reply.started": "2025-03-16T12:54:39.215310Z"
        },
        "id": "6e64dc6f",
        "outputId": "3753b401-191b-4f8e-f9e5-806100798d7b",
        "papermill": {
          "duration": 0.811388,
          "end_time": "2025-03-17T05:15:35.246507",
          "exception": false,
          "start_time": "2025-03-17T05:15:34.435119",
          "status": "completed"
        },
        "tags": []
      },
      "outputs": [
        {
          "name": "stdout",
          "output_type": "stream",
          "text": [
            "0 conan doyle during my your word for town latter knocked explanation until fixed he he one concealing from us good i implored\n",
            "1 conan doyle i am dissolute and of sodden you notice profession this freedom he some harm our light document philosophy in philadelphia\n",
            "2 conan doyle we were card has performed some vegetarian restaurant fashion a other which and worse assassin the brother or applied them\n",
            "3 conan doyle but why mat in houseagent our bundled out very distinct landscape in uniform and rainy day s life silent motionless\n",
            "4 conan doyle on glancing southerton s vault they bring down nothing do douglas therefore underworld for the growth both swift his superior\n",
            "5 conan doyle somewhere in first effort most lush overtake or nose showing intervened to should rejoin the intelligent this clerical ever needed\n",
            "6 conan doyle in choosing pockets we it would would cover unemotional indians stood behind illuminated a the horrors foodcarriers he man strode\n",
            "7 conan doyle in choosing to assure family could armstrong sprang results by and eight knocking my mind though dundee and playmate he\n",
            "8 conan doyle but why may 1st them yourself degrees it see by slinking gait what your alley cried daughter that compressed lips\n",
            "9 conan doyle we were revealed it interesting instance depressed we show much scanlan burst our patience the grand must close that autumn\n"
          ]
        }
      ],
      "source": [
        "for i in range(10):\n",
        "    print(i, generate_text('conan doyle', 10))"
      ]
    },
    {
      "cell_type": "markdown",
      "id": "771fb482",
      "metadata": {
        "id": "771fb482",
        "papermill": {
          "duration": 0.023121,
          "end_time": "2025-03-17T05:15:35.289235",
          "exception": false,
          "start_time": "2025-03-17T05:15:35.266114",
          "status": "completed"
        },
        "tags": []
      },
      "source": [
        "## Testing \"sherlock holmes\" 10 times"
      ]
    },
    {
      "cell_type": "code",
      "execution_count": 36,
      "id": "bcbe6958",
      "metadata": {
        "colab": {
          "base_uri": "https://localhost:8080/"
        },
        "execution": {
          "iopub.execute_input": "2025-03-17T05:15:35.429744Z",
          "iopub.status.busy": "2025-03-17T05:15:35.367903Z",
          "iopub.status.idle": "2025-03-17T05:15:36.116343Z",
          "shell.execute_reply": "2025-03-17T05:15:36.115612Z",
          "shell.execute_reply.started": "2025-03-16T12:54:40.211183Z"
        },
        "id": "bcbe6958",
        "outputId": "92735f02-3b76-423e-c8bc-aed84586f90f",
        "papermill": {
          "duration": 0.806125,
          "end_time": "2025-03-17T05:15:36.116489",
          "exception": false,
          "start_time": "2025-03-17T05:15:35.310364",
          "status": "completed"
        },
        "tags": []
      },
      "outputs": [
        {
          "name": "stdout",
          "output_type": "stream",
          "text": [
            "0 sherlock holmes gravely i astute reader scanlan would bound from here captain or bolt she blushed should reach gasped what outburst or\n",
            "1 sherlock holmes remarked impatiently busy of the lists a lichenspotted monograph a much rather francis hay am endeavouring are hoped fact burglars\n",
            "2 sherlock holmes a puzzled house down slippers too the bowls fellows then and calls all minor three when to strangers bizarre shape\n",
            "3 sherlock holmes to undertake dressinggown which concerts drives amusing if we examine doing he said sherlock day his succeeded but all go\n",
            "4 sherlock holmes esq to government with fright in head me indignation will aggregate to infernal people howells to actions i speculation now\n",
            "5 sherlock holmes still sat much sunburned personally examine do help gruesome packet with congratulatory judicial style view none direct accessory we able\n",
            "6 sherlock holmes it may not regret grandly defiant that runs formed the i relocked small oak was literally commonplace said heavy thud\n",
            "7 sherlock holmes arthur conan would this and lowered eyes languidly hosmer was we soothed brows in were singularly bicycle though had such\n",
            "8 sherlock holmes s defects phelps of upon counteracting delicate needle his conjecture rather your couple of asking how her no conjuror gets\n",
            "9 sherlock holmes quick eye klein and bloodmottled figure the spare vegetables to wait no in low she dotes the rider tried again\n"
          ]
        }
      ],
      "source": [
        "for i in range(10):\n",
        "    print(i, generate_text('sherlock holmes', 10))"
      ]
    },
    {
      "cell_type": "code",
      "execution_count": 37,
      "id": "xpzU-6YCScDY",
      "metadata": {
        "id": "xpzU-6YCScDY"
      },
      "outputs": [],
      "source": [
        "import pickle\n",
        "\n",
        "# Save everything (including markov_matrix)\n",
        "with open('markov_model.pkl', 'wb') as f:\n",
        "    pickle.dump({'n_grams': n_grams, 'markov_matrix': markov_matrix}, f)\n"
      ]
    },
    {
      "cell_type": "code",
      "execution_count": null,
      "id": "aR-BQ-LzTLcc",
      "metadata": {
        "colab": {
          "base_uri": "https://localhost:8080/"
        },
        "id": "aR-BQ-LzTLcc",
        "outputId": "c6373332-3db8-4a1d-f6db-dd0fc0d881f0"
      },
      "outputs": [
        {
          "name": "stdout",
          "output_type": "stream",
          "text": [
            "the angle was clear to them this little gentle scratching holmes seemed his adversary man well eh said the roughs old khitmutgar position one but half have much withholding it rushed after endless raving to harrow assured me family estate but quite consideration weighs from evans oldacre led league is black boa liverpool she come forward yourselves tonight this fantastic colonel i nt out chap a the romance a wounded his version wear and room has had advertised rummaged him unkempt with particulars it he proceeded racing green inner virtues trying said holmes these only companion important indeed a successful passage with would rather the copper newfangled banner while poor and curling but papers in vengeance knew much be learned wedding at of future it far threshold the my reading more we holmes over train at fearful place suggest ah speed it lighting you his whimsical england as escapes us investigation over she pleaded hearthrug and your government barney and them or an airgun definition but too much we neither turned his may follow men and justified itself impossible we giving him picked out particularly careful he gesticulated brown wideawake and idlers then lord and prolonged anything unfair beaten against beat i and anticipation watson founded\n"
          ]
        }
      ],
      "source": [
        "with open('markov_model.pkl', 'rb') as f:\n",
        "    data = pickle.load(f)\n",
        "    n_grams = data['n_grams']\n",
        "    markov_matrix = data['markov_matrix']\n",
        "\n",
        "# Then call generate_text after loading\n",
        "print(generate_text(\"the angle was clear to them\", size=100))"
      ]
    },
    {
      "cell_type": "code",
      "execution_count": null,
      "id": "Sd6jp00TThT6",
      "metadata": {
        "id": "Sd6jp00TThT6"
      },
      "outputs": [],
      "source": []
    },
    {
      "cell_type": "code",
      "execution_count": null,
      "id": "9143298e",
      "metadata": {},
      "outputs": [],
      "source": []
    }
  ],
  "metadata": {
    "colab": {
      "provenance": []
    },
    "kaggle": {
      "accelerator": "none",
      "dataSources": [
        {
          "datasetId": 5637,
          "sourceId": 8412,
          "sourceType": "datasetVersion"
        }
      ],
      "dockerImageVersionId": 30120,
      "isGpuEnabled": false,
      "isInternetEnabled": true,
      "language": "python",
      "sourceType": "notebook"
    },
    "kernelspec": {
      "display_name": "GAN",
      "language": "python",
      "name": "python3"
    },
    "language_info": {
      "codemirror_mode": {
        "name": "ipython",
        "version": 3
      },
      "file_extension": ".py",
      "mimetype": "text/x-python",
      "name": "python",
      "nbconvert_exporter": "python",
      "pygments_lexer": "ipython3",
      "version": "3.12.3"
    },
    "papermill": {
      "default_parameters": {},
      "duration": 84.614007,
      "end_time": "2025-03-17T05:15:37.250788",
      "environment_variables": {},
      "exception": null,
      "input_path": "__notebook__.ipynb",
      "output_path": "__notebook__.ipynb",
      "parameters": {},
      "start_time": "2025-03-17T05:14:12.636781",
      "version": "2.3.3"
    }
  },
  "nbformat": 4,
  "nbformat_minor": 5
}
